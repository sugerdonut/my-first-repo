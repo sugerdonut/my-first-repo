{
  "nbformat": 4,
  "nbformat_minor": 0,
  "metadata": {
    "colab": {
      "name": "Untitled6.ipynb",
      "provenance": [],
      "collapsed_sections": [],
      "authorship_tag": "ABX9TyOwZxbDMCvy7kdOmkovCxAn",
      "include_colab_link": true
    },
    "kernelspec": {
      "name": "python3",
      "display_name": "Python 3"
    },
    "language_info": {
      "name": "python"
    }
  },
  "cells": [
    {
      "cell_type": "markdown",
      "metadata": {
        "id": "view-in-github",
        "colab_type": "text"
      },
      "source": [
        "<a href=\"https://colab.research.google.com/github/sugerdonut/my-first-repo/blob/master/Untitled6.ipynb\" target=\"_parent\"><img src=\"https://colab.research.google.com/assets/colab-badge.svg\" alt=\"Open In Colab\"/></a>"
      ]
    },
    {
      "cell_type": "code",
      "source": [
        "from time import sleep\n",
        "import requests\n",
        "from bs4 import BeautifulSoup\n",
        "# 検索対象のリスト\n",
        "SEARCH_LIST = ['rs3781264', 'rs2274223', 'rs2294008', 'no_contents']\n",
        "# 定数\n",
        "\n",
        "BASE_URL = 'https://www.ncbi.nlm.nih.gov'\n",
        "SNP = '/snp/'\n",
        "SEARCH_QUERY = \"?term={}\""
      ],
      "metadata": {
        "id": "Ndayr-m8xPsZ"
      },
      "execution_count": 5,
      "outputs": []
    },
    {
      "cell_type": "code",
      "source": [
        "def get_soup(url: str) -> BeautifulSoup:\n",
        "    \"\"\"\n",
        "    urlを受け取って、soup型を返す\n",
        "    \n",
        "    @param url: 対象のurl e.g.) 'https://www.ncbi.nlm.nih.gov/snp/?term=rs3781264'\n",
        "    @return: BeautifulSoup\n",
        "    \"\"\"\n",
        "    response = requests.get(url)\n",
        "    # ステータスコードが200番台(成功)以外はエラー\n",
        "    response.raise_for_status()\n",
        "    # 文字化けが起こらないようにコンテンツ取得\n",
        "    response.encoding = response.apparent_encoding\n",
        "    \n",
        "    return BeautifulSoup(response.text, 'html.parser')"
      ],
      "metadata": {
        "id": "FW1MfCrLaA5K"
      },
      "execution_count": 18,
      "outputs": []
    },
    {
      "cell_type": "code",
      "source": [
        "def get_first_title(soup: BeautifulSoup) -> str:\n",
        "    \"\"\"\n",
        "    検索結果一番上のタイトルを取得\n",
        "    \"\"\"\n",
        "    first_area = soup.find('div', class_='rprt')\n",
        "    return first_area.find_all('span')[1].find('span').text\n",
        "def get_first_link(soup: BeautifulSoup) -> str:\n",
        "    \"\"\"\n",
        "    検索結果一番上のリンクを取得\n",
        "    \"\"\"\n",
        "    first_area = soup.find('div', class_='rprt')\n",
        "    href = first_area.find('p', class_='title').find('a').get('href')\n",
        "    return f\"{BASE_URL}{href}\""
      ],
      "metadata": {
        "id": "P3APuDI6xjd8"
      },
      "execution_count": 19,
      "outputs": []
    },
    {
      "cell_type": "code",
      "source": [
        "\n",
        "def get_variation_type(soup: BeautifulSoup) -> str:\n",
        "    return soup.find(\n",
        "        'dl', class_='usa-width-one-half'\n",
        "    ).find_all('dd')[3].text.strip().replace('\\n', '').replace(' ', '')"
      ],
      "metadata": {
        "id": "WSIfhpeOxmqk"
      },
      "execution_count": 20,
      "outputs": []
    },
    {
      "cell_type": "code",
      "source": [
        "\n",
        "def get_gene_consequence(soup: BeautifulSoup) -> str:\n",
        "    return soup.find_all(\n",
        "        'dl', class_='usa-width-one-half'\n",
        "    )[1].find_all('dd')[1].text.strip().replace('\\n', '').replace(' ', '')"
      ],
      "metadata": {
        "id": "QvVg4YE2xo8u"
      },
      "execution_count": 21,
      "outputs": []
    },
    {
      "cell_type": "code",
      "source": [
        "def main():\n",
        "    for target in SEARCH_LIST:\n",
        "        print(target)\n",
        "        url = BASE_URL + '/snp/' + SEARCH_QUERY.format(target)\n",
        "        soup = get_soup(url)\n",
        "        sleep(1)\n",
        "        try:\n",
        "            get_first_title(soup)\n",
        "        except Exception:\n",
        "            print(f'{target}は存在しません')\n",
        "            continue\n",
        "        url = get_first_link(soup)\n",
        "        detail_page_soup = get_soup(url)\n",
        "        variation_type = get_variation_type(detail_page_soup)\n",
        "        print('Variation Type => ' + variation_type)\n",
        "        gene_consequence = get_gene_consequence(detail_page_soup)\n",
        "        print('Gene : Consequence => ' + gene_consequence)\n",
        "        print('====================================================')"
      ],
      "metadata": {
        "id": "u07QYhB7xsqH"
      },
      "execution_count": 22,
      "outputs": []
    },
    {
      "cell_type": "code",
      "source": [
        "if __name__ == '__main__':\n",
        "    main()"
      ],
      "metadata": {
        "colab": {
          "base_uri": "https://localhost:8080/"
        },
        "id": "jJEcePSvd1oG",
        "outputId": "b7876dcd-9599-4094-f79f-0217081abb60"
      },
      "execution_count": 23,
      "outputs": [
        {
          "output_type": "stream",
          "name": "stdout",
          "text": [
            "rs3781264\n",
            "Variation Type => SNVSingleNucleotideVariation\n",
            "Gene : Consequence => PLCE1:IntronVariant\n",
            "====================================================\n",
            "rs2274223\n",
            "Variation Type => SNVSingleNucleotideVariation\n",
            "Gene : Consequence => PLCE1:MissenseVariant\n",
            "====================================================\n",
            "rs2294008\n",
            "Variation Type => SNVSingleNucleotideVariation\n",
            "Gene : Consequence => PSCA:IntronVariant\n",
            "====================================================\n",
            "no_contents\n",
            "no_contentsは存在しません\n"
          ]
        }
      ]
    },
    {
      "cell_type": "code",
      "source": [
        ""
      ],
      "metadata": {
        "id": "qaeouwqux92a"
      },
      "execution_count": null,
      "outputs": []
    }
  ]
}